{
 "cells": [
  {
   "metadata": {
    "ExecuteTime": {
     "end_time": "2024-10-30T06:22:29.840876Z",
     "start_time": "2024-10-30T06:22:29.818955Z"
    }
   },
   "cell_type": "code",
   "source": [
    "import pandas as pd\n",
    "from sklearn.datasets import fetch_openml\n",
    "from sklearn.model_selection import train_test_split\n",
    "\n",
    "# 보스턴 데이터셋 불러오기\n",
    "boston = fetch_openml(name=\"boston\", version=1, parser='auto', as_frame=True)\n",
    "X_train, X_test, y_train, y_test = train_test_split(boston.data, boston.target, test_size=0.2, random_state=3)\n",
    "\n",
    "# train.csv 생성\n",
    "train_df = pd.concat([X_train, y_train.rename(\"MEDV\")], axis=1)\n",
    "train_df = train_df.reset_index().rename(columns={'index': 'ID'})\n",
    "train_df.to_csv(\"train.csv\", index=False)\n",
    "\n",
    "# test.csv 생성\n",
    "X_test = X_test.reset_index().rename(columns={'index': 'ID'})\n",
    "X_test.to_csv(\"test.csv\", index=False)\n",
    "\n",
    "# submission.csv\n",
    "y_test = y_test.reset_index().rename(columns={'index': 'ID'})\n",
    "y_test.to_csv(\"submission.csv\", index=False)\n"
   ],
   "id": "6ed4ae5b87720971",
   "outputs": [],
   "execution_count": 32
  }
 ],
 "metadata": {
  "kernelspec": {
   "display_name": "Python 3",
   "language": "python",
   "name": "python3"
  },
  "language_info": {
   "codemirror_mode": {
    "name": "ipython",
    "version": 2
   },
   "file_extension": ".py",
   "mimetype": "text/x-python",
   "name": "python",
   "nbconvert_exporter": "python",
   "pygments_lexer": "ipython2",
   "version": "2.7.6"
  }
 },
 "nbformat": 4,
 "nbformat_minor": 5
}
