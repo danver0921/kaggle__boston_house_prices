{
 "cells": [
  {
   "cell_type": "code",
   "execution_count": null,
   "id": "0",
   "metadata": {},
   "outputs": [],
   "source": [
    "import pandas as pd\n",
    "from sklearn.datasets import fetch_openml\n",
    "from sklearn.model_selection import train_test_split\n",
    "\n",
    "# 보스턴 데이터셋 불러오기\n",
    "boston = fetch_openml(name=\"boston\", version=1, parser='auto', as_frame=True)\n",
    "X_train, X_test, y_train, y_test = train_test_split(boston.data, boston.target, test_size=0.2, random_state=3)\n",
    "submission_example = y_test.copy()\n",
    "\n",
    "# train.csv 생성\n",
    "train_df = pd.concat([X_train, y_train.rename(\"MEDV\")], axis=1)\n",
    "train_df = train_df.reset_index().rename(columns={'index': 'ID'})\n",
    "train_df.to_csv(\"train.csv\", index=False)\n",
    "\n",
    "# test.csv 생성\n",
    "X_test = X_test.reset_index().rename(columns={'index': 'ID'})\n",
    "X_test.to_csv(\"test.csv\", index=False)\n",
    "\n",
    "# submission.csv\n",
    "# y_test = y_test.reset_index().rename(columns={'index': 'ID'})\n",
    "# y_test.to_csv(\"submission.csv\", index=False)\n",
    "\n",
    "# submission_example.csv\n",
    "# submission_example = submission_example.reset_index().rename(columns={'index': 'ID'})\n",
    "# submission_example['MEDV'] = submission_example['MEDV'].mean()\n",
    "# submission_example.to_csv(\"submission_example.csv\", index=False)\n",
    "\n",
    "# create submission 데이터셋\n",
    "# test_df = pd.concat([X_test, y_test.rename(\"MEDV\")], axis=1)\n",
    "# test_df = test_df.reset_index().rename(columns={'index': 'ID'})\n",
    "# test_df.to_csv(\"test.csv\", index=False)"
   ]
  },
  {
   "cell_type": "markdown",
   "id": "1",
   "metadata": {},
   "source": [
    "### 데이터 분석"
   ]
  },
  {
   "cell_type": "code",
   "execution_count": null,
   "id": "2",
   "metadata": {},
   "outputs": [],
   "source": [
    "import matplotlib.pyplot as plt\n",
    "import seaborn as sns"
   ]
  },
  {
   "cell_type": "code",
   "execution_count": null,
   "id": "3",
   "metadata": {},
   "outputs": [],
   "source": [
    "class DataSet:\n",
    "    def __init__(self, name, df, color):\n",
    "        self.name = name\n",
    "        self.df = df\n",
    "        self.color = color"
   ]
  },
  {
   "cell_type": "code",
   "execution_count": null,
   "id": "4",
   "metadata": {},
   "outputs": [],
   "source": [
    "def extract(df):\n",
    "    X = df.drop(columns=['MEDV'])\n",
    "    Y = df['MEDV']\n",
    "    return X, Y\n",
    "\n",
    "# 데이터 읽기\n",
    "data_train = pd.read_csv('./train.csv').set_index('ID')\n",
    "data_test = pd.read_csv('./test.csv').set_index('ID')\n",
    "\n",
    "datas = []\n",
    "datas.append(DataSet(name='train.csv', df=data_train, color='red'))\n",
    "datas.append(DataSet(name='test.csv', df=data_test, color='blue'))\n",
    "\n",
    "fig, axes = plt.subplots(1, 2, figsize=(5, 2.5))\n",
    "for idx, item in enumerate(datas):\n",
    "    axes[idx].hist(item.df['MEDV'])\n",
    "plt.show()"
   ]
  },
  {
   "cell_type": "code",
   "execution_count": null,
   "id": "5",
   "metadata": {},
   "outputs": [],
   "source": [
    "# 히스토그램 겹치기\n",
    "for idx, item in enumerate(datas):\n",
    "    sns.kdeplot(item.df['MEDV'], color=item.color, label=item.name)\n",
    "plt.legend()\n",
    "plt.title('Distribution of MEDV ratios')\n",
    "plt.show()"
   ]
  },
  {
   "cell_type": "code",
   "execution_count": null,
   "id": "6",
   "metadata": {},
   "outputs": [],
   "source": []
  }
 ],
 "metadata": {
  "kernelspec": {
   "display_name": "Python 3",
   "language": "python",
   "name": "python3"
  },
  "language_info": {
   "codemirror_mode": {
    "name": "ipython",
    "version": 2
   },
   "file_extension": ".py",
   "mimetype": "text/x-python",
   "name": "python",
   "nbconvert_exporter": "python",
   "pygments_lexer": "ipython2",
   "version": "2.7.6"
  }
 },
 "nbformat": 4,
 "nbformat_minor": 5
}
