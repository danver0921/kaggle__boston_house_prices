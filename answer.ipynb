{
 "cells": [
  {
   "metadata": {
    "ExecuteTime": {
     "end_time": "2024-10-31T04:52:12.523715Z",
     "start_time": "2024-10-31T04:52:12.521346Z"
    }
   },
   "cell_type": "code",
   "source": [
    "import numpy as np\n",
    "import pandas as pd\n",
    "from sklearn.model_selection import train_test_split\n",
    "from sklearn.linear_model import LinearRegression\n",
    "from sklearn.metrics import mean_squared_error"
   ],
   "id": "1a5f5ee395e01fcd",
   "outputs": [],
   "execution_count": 94
  },
  {
   "metadata": {},
   "cell_type": "markdown",
   "source": "### 데이터 읽어오기",
   "id": "6e4ac4ebaa40b6a3"
  },
  {
   "metadata": {
    "collapsed": true,
    "ExecuteTime": {
     "end_time": "2024-10-31T04:52:12.538385Z",
     "start_time": "2024-10-31T04:52:12.530967Z"
    }
   },
   "cell_type": "code",
   "source": [
    "def extract(df):\n",
    "    X = df.drop(columns=['MEDV'])\n",
    "    Y = df['MEDV']\n",
    "    return X, Y\n",
    "\n",
    "# 데이터 읽기\n",
    "data = pd.read_csv('data/train.csv').set_index('ID')\n",
    "test = pd.read_csv('data/test.csv').set_index('ID')\n",
    "input_x, input_y = extract(data.drop(columns=['CHAS', 'RAD']))\n",
    "submit_x = test.drop(columns=['CHAS', 'RAD'])"
   ],
   "id": "initial_id",
   "outputs": [],
   "execution_count": 95
  },
  {
   "metadata": {},
   "cell_type": "markdown",
   "source": "### 훈련 및 예측",
   "id": "d582a7f2007f24c6"
  },
  {
   "metadata": {
    "ExecuteTime": {
     "end_time": "2024-10-31T04:52:12.574562Z",
     "start_time": "2024-10-31T04:52:12.568295Z"
    }
   },
   "cell_type": "code",
   "source": [
    "# 훈련용 데이터와 테스트 데이터 분리\n",
    "X_train, X_test, y_train, y_test = train_test_split(input_x, input_y, test_size=0.2, random_state=100)\n",
    " \n",
    "# 훈련\n",
    "model = LinearRegression()\n",
    "model.fit(X_train, y_train)\n",
    "\n",
    "# 예측\n",
    "y_pred = model.predict(X_test)\n",
    "\n",
    "# 성능 계산\n",
    "rmse = np.sqrt(mean_squared_error(y_test, y_pred))\n",
    "print(\"RMSE:\", rmse)"
   ],
   "id": "ae289065a9559da8",
   "outputs": [
    {
     "name": "stdout",
     "output_type": "stream",
     "text": [
      "RMSE: 5.8688840406509755\n"
     ]
    }
   ],
   "execution_count": 96
  },
  {
   "metadata": {},
   "cell_type": "markdown",
   "source": "### 결과 파일 생성",
   "id": "bf86c8b1475b1561"
  },
  {
   "metadata": {
    "ExecuteTime": {
     "end_time": "2024-10-31T04:53:40.315096Z",
     "start_time": "2024-10-31T04:53:40.307618Z"
    }
   },
   "cell_type": "code",
   "source": [
    "# 결과 파일 생성\n",
    "submit_y = pd.DataFrame(model.predict(submit_x), index=submit_x.index, columns=['MEDV'])\n",
    "submit_y.to_csv(\"submission.csv\", index=True)"
   ],
   "id": "1d773c0965f3b08",
   "outputs": [],
   "execution_count": 98
  },
  {
   "metadata": {},
   "cell_type": "markdown",
   "source": [
    "\n",
    "\n",
    "### 결과 분석"
   ],
   "id": "9db45acd1e793149"
  },
  {
   "metadata": {
    "ExecuteTime": {
     "end_time": "2024-10-31T04:57:02.730899Z",
     "start_time": "2024-10-31T04:57:02.723862Z"
    }
   },
   "cell_type": "code",
   "source": [
    "# 피처 이름과 가중치를 DataFrame으로 정리\n",
    "weights_df = pd.DataFrame({\n",
    "    'Feature': X_train.columns,\n",
    "    'Weight': model.coef_\n",
    "})\n",
    "weights_df = weights_df.sort_values(by='Weight', ascending=False)  # 가중치 크기순 정렬\n",
    "\n",
    "print(weights_df)"
   ],
   "id": "75fdd67e7686c5c0",
   "outputs": [
    {
     "name": "stdout",
     "output_type": "stream",
     "text": [
      "    Feature     Weight\n",
      "4        RM   3.895255\n",
      "1        ZN   0.030173\n",
      "9         B   0.008277\n",
      "7       TAX   0.001132\n",
      "5       AGE  -0.004556\n",
      "0      CRIM  -0.064281\n",
      "2     INDUS  -0.078106\n",
      "10    LSTAT  -0.484649\n",
      "8   PTRATIO  -0.881321\n",
      "6       DIS  -1.257627\n",
      "3       NOX -13.280288\n"
     ]
    }
   ],
   "execution_count": 103
  },
  {
   "metadata": {},
   "cell_type": "code",
   "outputs": [],
   "execution_count": null,
   "source": "",
   "id": "81c5ae6943e11d6e"
  }
 ],
 "metadata": {
  "kernelspec": {
   "display_name": "Python 3",
   "language": "python",
   "name": "python3"
  },
  "language_info": {
   "codemirror_mode": {
    "name": "ipython",
    "version": 2
   },
   "file_extension": ".py",
   "mimetype": "text/x-python",
   "name": "python",
   "nbconvert_exporter": "python",
   "pygments_lexer": "ipython2",
   "version": "2.7.6"
  }
 },
 "nbformat": 4,
 "nbformat_minor": 5
}
