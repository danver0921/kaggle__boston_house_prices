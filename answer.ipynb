{
 "cells": [
  {
   "cell_type": "code",
   "execution_count": null,
   "id": "0",
   "metadata": {},
   "outputs": [],
   "source": [
    "import numpy as np\n",
    "import pandas as pd\n",
    "from sklearn.model_selection import train_test_split\n",
    "from sklearn.linear_model import LinearRegression\n",
    "from xgboost import XGBRegressor\n",
    "from sklearn.metrics import mean_squared_error\n",
    "from sklearn.metrics import mean_absolute_error"
   ]
  },
  {
   "cell_type": "markdown",
   "id": "1",
   "metadata": {},
   "source": [
    "### 데이터 읽어오기"
   ]
  },
  {
   "cell_type": "code",
   "execution_count": null,
   "id": "2",
   "metadata": {},
   "outputs": [],
   "source": [
    "def extract(df):\n",
    "    X = df.drop(columns=['MEDV'])\n",
    "    Y = df['MEDV']\n",
    "    return X, Y\n",
    "\n",
    "# 데이터 읽기\n",
    "data = pd.read_csv('data/train.csv').set_index('ID')\n",
    "test = pd.read_csv('data/test.csv').set_index('ID')\n",
    "input_x, input_y = extract(data)\n",
    "submit_x = test"
   ]
  },
  {
   "cell_type": "markdown",
   "id": "3",
   "metadata": {},
   "source": [
    "### 검증"
   ]
  },
  {
   "cell_type": "code",
   "execution_count": null,
   "id": "4",
   "metadata": {},
   "outputs": [],
   "source": [
    "from sklearn.ensemble import RandomForestRegressor\n",
    "from sklearn.model_selection import cross_val_score\n",
    "\n",
    "# 검증\n",
    "model = RandomForestRegressor(random_state=42)\n",
    "rmse_scores = -cross_val_score(model, input_x, input_y, scoring='neg_root_mean_squared_error', cv=5)\n",
    "\n",
    "# 평균 RMSE 출력\n",
    "print(f\"Average RMSE: {np.mean(rmse_scores):.4f}\")"
   ]
  },
  {
   "cell_type": "markdown",
   "id": "5",
   "metadata": {},
   "source": [
    "### 훈련 및 예측 파일 생성"
   ]
  },
  {
   "cell_type": "code",
   "execution_count": null,
   "id": "6",
   "metadata": {},
   "outputs": [],
   "source": [
    "# 훈련\n",
    "model = RandomForestRegressor(random_state=42)\n",
    "model.fit(input_x, input_y)\n",
    "\n",
    "# 결과 파일 생성\n",
    "submit_y = pd.DataFrame(model.predict(submit_x), index=submit_x.index, columns=['MEDV'])\n",
    "submit_y.to_csv(\"submission.csv\", index=True)"
   ]
  }
 ],
 "metadata": {
  "kernelspec": {
   "display_name": "Python 3",
   "language": "python",
   "name": "python3"
  },
  "language_info": {
   "codemirror_mode": {
    "name": "ipython",
    "version": 2
   },
   "file_extension": ".py",
   "mimetype": "text/x-python",
   "name": "python",
   "nbconvert_exporter": "python",
   "pygments_lexer": "ipython2",
   "version": "2.7.6"
  }
 },
 "nbformat": 4,
 "nbformat_minor": 5
}
