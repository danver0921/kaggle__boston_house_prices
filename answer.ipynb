{
 "cells": [
  {
   "metadata": {
    "ExecuteTime": {
     "end_time": "2024-10-31T04:22:09.711240Z",
     "start_time": "2024-10-31T04:22:09.708310Z"
    }
   },
   "cell_type": "code",
   "source": "",
   "id": "bdb0afe1fcda44e",
   "outputs": [],
   "execution_count": 17
  },
  {
   "metadata": {
    "collapsed": true,
    "ExecuteTime": {
     "end_time": "2024-10-31T04:50:04.929388Z",
     "start_time": "2024-10-31T04:50:04.911791Z"
    }
   },
   "cell_type": "code",
   "source": [
    "import numpy as np\n",
    "import pandas as pd\n",
    "from sklearn.model_selection import train_test_split\n",
    "from sklearn.linear_model import LinearRegression\n",
    "from sklearn.metrics import mean_squared_error\n",
    "\n",
    "def extract(df):\n",
    "    X = df.drop(columns=['MEDV'])\n",
    "    Y = df['MEDV']\n",
    "    return X, Y\n",
    "\n",
    "# 데이터 읽기\n",
    "data = pd.read_csv('data/train.csv').set_index('ID')\n",
    "test = pd.read_csv('data/test.csv').set_index('ID')\n",
    "input_x, input_y = extract(data.drop(columns=['CHAS', 'RAD']))\n",
    "submit_x = test.drop(columns=['CHAS', 'RAD'])\n",
    "\n",
    "# 훈련용 데이터와 테스트 데이터 분리\n",
    "X_train, X_test, y_train, y_test = train_test_split(input_x, input_y, test_size=0.2, random_state=100)\n",
    " \n",
    "# 훈련\n",
    "model = LinearRegression()\n",
    "model.fit(X_train, y_train)\n",
    "\n",
    "# 예측\n",
    "y_pred = model.predict(X_test)\n",
    "\n",
    "# 성능 계산\n",
    "rmse = np.sqrt(mean_squared_error(y_test, y_pred))\n",
    "print(\"RMSE:\", rmse)\n",
    "\n",
    "# 결과 파일 생성\n",
    "submit_y = pd.DataFrame(model.predict(submit_x), index=submit_x.index, columns=['MEDV'])\n",
    "submit_y.to_csv(\"submission.csv\", index=True)"
   ],
   "id": "initial_id",
   "outputs": [
    {
     "name": "stdout",
     "output_type": "stream",
     "text": [
      "RMSE: 5.8688840406509755\n"
     ]
    }
   ],
   "execution_count": 89
  },
  {
   "metadata": {
    "ExecuteTime": {
     "end_time": "2024-10-31T04:50:03.593739Z",
     "start_time": "2024-10-31T04:50:03.591050Z"
    }
   },
   "cell_type": "code",
   "source": "",
   "id": "ae289065a9559da8",
   "outputs": [],
   "execution_count": null
  },
  {
   "metadata": {},
   "cell_type": "code",
   "outputs": [],
   "execution_count": null,
   "source": "",
   "id": "1d773c0965f3b08"
  }
 ],
 "metadata": {
  "kernelspec": {
   "display_name": "Python 3",
   "language": "python",
   "name": "python3"
  },
  "language_info": {
   "codemirror_mode": {
    "name": "ipython",
    "version": 2
   },
   "file_extension": ".py",
   "mimetype": "text/x-python",
   "name": "python",
   "nbconvert_exporter": "python",
   "pygments_lexer": "ipython2",
   "version": "2.7.6"
  }
 },
 "nbformat": 4,
 "nbformat_minor": 5
}
