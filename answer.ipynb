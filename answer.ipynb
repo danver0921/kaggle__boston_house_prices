{
 "cells": [
  {
   "cell_type": "code",
   "execution_count": null,
   "id": "0",
   "metadata": {},
   "outputs": [],
   "source": [
    "import numpy as np\n",
    "import pandas as pd\n",
    "from pandas.api.types import CategoricalDtype\n",
    "from sklearn.model_selection import train_test_split\n",
    "from sklearn.linear_model import LinearRegression\n",
    "from tensorflow.python.ops.distributions.categorical import Categorical\n",
    "from xgboost import XGBRegressor\n",
    "from sklearn.metrics import mean_squared_error\n",
    "from sklearn.metrics import mean_absolute_error"
   ]
  },
  {
   "cell_type": "markdown",
   "id": "1",
   "metadata": {},
   "source": [
    "### 데이터 읽어오기"
   ]
  },
  {
   "cell_type": "code",
   "execution_count": null,
   "id": "2",
   "metadata": {},
   "outputs": [],
   "source": [
    "def extract(df):\n",
    "    X = df.drop(columns=['MEDV'])\n",
    "    Y = df['MEDV']\n",
    "    return X, Y\n",
    "\n",
    "\n",
    "def readCSV(fileName):\n",
    "    df = (pd.read_csv(fileName,\n",
    "                      dtype={'CHAS': 'bool',\n",
    "                             'RAD': 'category',\n",
    "                             'TAX': 'int'})\n",
    "          .set_index('ID'))\n",
    "    \n",
    "    radType = CategoricalDtype(categories=['1', '2', '3', '4', '5', '6', '7', '8', '9', '10', '11', '12', '13', '14', '15', '16', '17', '18', '19', '20', '21', '22', '23', '24'], ordered=True)\n",
    "    df['RAD'] = df['RAD'].astype(radType)\n",
    "    return df\n",
    "\n",
    "\n",
    "# 데이터 읽기\n",
    "data = readCSV('data/train.csv')\n",
    "test = readCSV('data/test.csv')\n",
    "input_x, input_y = extract(data)\n",
    "submit_x = test"
   ]
  },
  {
   "cell_type": "markdown",
   "id": "3",
   "metadata": {},
   "source": [
    "### 검증"
   ]
  },
  {
   "cell_type": "code",
   "execution_count": null,
   "id": "4",
   "metadata": {},
   "outputs": [],
   "source": [
    "from sklearn.ensemble import RandomForestRegressor\n",
    "from sklearn.model_selection import cross_val_score\n",
    "\n",
    "# 검증\n",
    "model = RandomForestRegressor(random_state=42)\n",
    "rmse_scores = -cross_val_score(model, input_x, input_y, scoring='neg_root_mean_squared_error', cv=5)\n",
    "\n",
    "# 평균 RMSE 출력\n",
    "print(f\"Average RMSE: {np.mean(rmse_scores):.4f}\")"
   ]
  },
  {
   "cell_type": "markdown",
   "id": "5",
   "metadata": {},
   "source": [
    "### 훈련 및 예측 파일 생성"
   ]
  },
  {
   "cell_type": "code",
   "execution_count": null,
   "id": "6",
   "metadata": {},
   "outputs": [],
   "source": [
    "# 훈련\n",
    "model = RandomForestRegressor(random_state=42)\n",
    "model.fit(input_x, input_y)\n",
    "\n",
    "# 결과 파일 생성\n",
    "submit_y = pd.DataFrame(model.predict(submit_x), index=submit_x.index, columns=['MEDV'])\n",
    "submit_y.to_csv(\"submission.csv\", index=True)"
   ]
  },
  {
   "cell_type": "code",
   "execution_count": null,
   "id": "7",
   "metadata": {},
   "outputs": [],
   "source": []
  }
 ],
 "metadata": {
  "kernelspec": {
   "display_name": "Python 3",
   "language": "python",
   "name": "python3"
  },
  "language_info": {
   "codemirror_mode": {
    "name": "ipython",
    "version": 2
   },
   "file_extension": ".py",
   "mimetype": "text/x-python",
   "name": "python",
   "nbconvert_exporter": "python",
   "pygments_lexer": "ipython2",
   "version": "2.7.6"
  }
 },
 "nbformat": 4,
 "nbformat_minor": 5
}
