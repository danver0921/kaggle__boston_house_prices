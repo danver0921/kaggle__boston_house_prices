{
 "cells": [
  {
   "cell_type": "code",
   "execution_count": null,
   "id": "0",
   "metadata": {},
   "outputs": [],
   "source": [
    "import numpy as np\n",
    "import pandas as pd\n",
    "from pandas.api.types import CategoricalDtype\n",
    "from pandas.core.common import random_state\n",
    "from sklearn.model_selection import train_test_split\n",
    "from sklearn.linear_model import LinearRegression\n",
    "from tensorflow.python.ops.distributions.categorical import Categorical\n",
    "from xgboost import XGBRegressor\n",
    "from sklearn.metrics import mean_squared_error\n",
    "from sklearn.metrics import mean_absolute_error\n",
    "from xgboost import XGBRegressor"
   ]
  },
  {
   "cell_type": "markdown",
   "id": "1",
   "metadata": {},
   "source": [
    "### 데이터 읽어오기"
   ]
  },
  {
   "cell_type": "code",
   "execution_count": null,
   "id": "2",
   "metadata": {},
   "outputs": [],
   "source": [
    "def extract(df):\n",
    "    X = df.drop(columns=['MEDV'])\n",
    "    Y = df['MEDV']\n",
    "    return X, Y\n",
    "\n",
    "\n",
    "def readCSV(fileName):\n",
    "    df = pd.read_csv(fileName, dtype={'CHAS': 'bool', 'TAX': 'int'}).set_index('ID')\n",
    "    return df\n",
    "\n",
    "\n",
    "# 데이터 읽기\n",
    "data = readCSV('data/train.csv')\n",
    "test = readCSV('data/test.csv')\n",
    "\n",
    "# 데이터 전처리\n",
    "data = data[data['MEDV'] != 50.0]\n",
    "\n",
    "# IQR 기반 이상치 제거 함수\n",
    "def remove_outliers(df, column):\n",
    "    Q1 = df[column].quantile(0.25)  # 1사분위수\n",
    "    Q3 = df[column].quantile(0.75)  # 3사분위수\n",
    "    IQR = Q3 - Q1                   # IQR 계산\n",
    "    \n",
    "    # 이상치 범위 설정\n",
    "    lower_bound = Q1 - 1.5 * IQR\n",
    "    upper_bound = Q3 + 1.5 * IQR\n",
    "    \n",
    "    # 이상치를 제외한 데이터 필터링\n",
    "    filtered_df = df[(df[column] >= lower_bound) & (df[column] <= upper_bound)]\n",
    "    return filtered_df\n",
    "\n",
    "# 효과 있는 것\n",
    "# data = remove_outliers(data, 'CRIM')\n",
    "# data = remove_outliers(data, 'RM')\n",
    "# data = remove_outliers(data, 'B')\n",
    "# data = remove_outliers(data, 'LSTAT')\n",
    "\n",
    "# 무효과\n",
    "# data = remove_outliers(data, 'INDUS')\n",
    "# data = remove_outliers(data, 'NOX')\n",
    "# data = remove_outliers(data, 'AGE')\n",
    "# data = remove_outliers(data, 'RAD')\n",
    "# data = remove_outliers(data, 'TAX')\n",
    "\n",
    "# 역효과\n",
    "# data = remove_outliers(data, 'ZN')\n",
    "# data = remove_outliers(data, 'DIS')\n",
    "# data = remove_outliers(data, 'PTRATIO')\n",
    "\n",
    "# 데이터 전달\n",
    "input_x, input_y = extract(data)\n",
    "submit_x = test\n",
    "\n",
    "input_x.info()"
   ]
  },
  {
   "cell_type": "markdown",
   "id": "3",
   "metadata": {},
   "source": [
    "### 검증"
   ]
  },
  {
   "cell_type": "code",
   "execution_count": null,
   "id": "4",
   "metadata": {},
   "outputs": [],
   "source": [
    "from sklearn.model_selection import cross_val_score\n",
    "\n",
    "# 검증\n",
    "model = LinearRegression()\n",
    "rmse_scores = -cross_val_score(model, input_x, input_y, scoring='neg_root_mean_squared_error', cv=5)\n",
    "\n",
    "# 평균 RMSE 출력\n",
    "print(f\"Average RMSE: {np.mean(rmse_scores):.4f}\")"
   ]
  },
  {
   "cell_type": "markdown",
   "id": "5",
   "metadata": {},
   "source": [
    "### 훈련 및 예측 파일 생성"
   ]
  },
  {
   "cell_type": "code",
   "execution_count": null,
   "id": "6",
   "metadata": {},
   "outputs": [],
   "source": [
    "# 훈련\n",
    "model.fit(input_x, input_y)\n",
    "\n",
    "# 결과 파일 생성\n",
    "submit_y = pd.DataFrame(model.predict(submit_x), index=submit_x.index, columns=['MEDV'])\n",
    "submit_y.to_csv(\"submission.csv\", index=True)"
   ]
  },
  {
   "cell_type": "markdown",
   "id": "7",
   "metadata": {},
   "source": []
  },
  {
   "cell_type": "code",
   "execution_count": null,
   "id": "8",
   "metadata": {},
   "outputs": [],
   "source": []
  },
  {
   "cell_type": "markdown",
   "id": "9",
   "metadata": {},
   "source": []
  }
 ],
 "metadata": {
  "kernelspec": {
   "display_name": "Python 3",
   "language": "python",
   "name": "python3"
  },
  "language_info": {
   "codemirror_mode": {
    "name": "ipython",
    "version": 2
   },
   "file_extension": ".py",
   "mimetype": "text/x-python",
   "name": "python",
   "nbconvert_exporter": "python",
   "pygments_lexer": "ipython2",
   "version": "2.7.6"
  }
 },
 "nbformat": 4,
 "nbformat_minor": 5
}
